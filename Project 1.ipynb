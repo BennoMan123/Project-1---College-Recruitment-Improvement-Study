{
 "cells": [
  {
   "cell_type": "markdown",
   "id": "5f6bc260-ecec-4af3-b710-bc98a22ad785",
   "metadata": {},
   "source": [
    "# Project #1, Part 2: Data Exploration and Cleaning\n",
    "## Michael Benno\n",
    "## 10/8/25\n",
    "## Program reads in the data, shows some basic information about it, and then extracts the needed columns for when I need to extract the data from it to answer the questions."
   ]
  },
  {
   "cell_type": "code",
   "execution_count": null,
   "id": "2e64a7ce-8e71-4c78-9dcc-9801e9799a8f",
   "metadata": {},
   "outputs": [],
   "source": [
    "import pandas as pd\n",
    "import matplotlib.pyplot as plt"
   ]
  },
  {
   "cell_type": "code",
   "execution_count": null,
   "id": "80b4e18a-b6d7-4d68-8729-7da29bd7c11c",
   "metadata": {},
   "outputs": [],
   "source": [
    "#Reading the data from the csv\n",
    "df = pd.read_csv(\"Non-Majors Survey Results - Fall 2024.csv\")"
   ]
  },
  {
   "cell_type": "markdown",
   "id": "a7da5607-922b-4b6f-bcd3-b26f726f3ede",
   "metadata": {},
   "source": [
    "## Some basic information of the data set:"
   ]
  },
  {
   "cell_type": "code",
   "execution_count": null,
   "id": "79558ee6-7837-46d1-beb1-f469c2b6683e",
   "metadata": {},
   "outputs": [],
   "source": [
    "df.columns #Displays the columns"
   ]
  },
  {
   "cell_type": "code",
   "execution_count": null,
   "id": "e3914b8d-2cb9-43e7-8bdd-bdff2bbbe3d4",
   "metadata": {},
   "outputs": [],
   "source": [
    "df.shape"
   ]
  },
  {
   "cell_type": "code",
   "execution_count": null,
   "id": "0d4ff7b9-4ad3-4ce2-8096-dac10d5928fe",
   "metadata": {},
   "outputs": [],
   "source": [
    "df.dtypes"
   ]
  },
  {
   "cell_type": "code",
   "execution_count": null,
   "id": "4f278995-f192-48d2-800d-ee4a3cf40697",
   "metadata": {},
   "outputs": [],
   "source": [
    "df.head()"
   ]
  },
  {
   "cell_type": "code",
   "execution_count": null,
   "id": "9f731d27-bab7-4d74-8659-0ac7501955aa",
   "metadata": {},
   "outputs": [],
   "source": [
    "df.tail()"
   ]
  },
  {
   "cell_type": "code",
   "execution_count": null,
   "id": "0fb1c783-979f-4f5e-bed7-3ae3812c4ced",
   "metadata": {},
   "outputs": [],
   "source": [
    "df.sample()"
   ]
  },
  {
   "cell_type": "code",
   "execution_count": null,
   "id": "4f0a0d88-4451-44ab-9cc5-9a7ec8d456a1",
   "metadata": {},
   "outputs": [],
   "source": [
    "df.info()"
   ]
  },
  {
   "cell_type": "code",
   "execution_count": null,
   "id": "fe5bf158-3d50-4d51-bd8b-7b1e43c439d3",
   "metadata": {},
   "outputs": [],
   "source": [
    "df.count()"
   ]
  },
  {
   "cell_type": "markdown",
   "id": "32b77cab-cb49-46b9-bf7a-f08f3eb27f0f",
   "metadata": {},
   "source": [
    "## Data before being changes:"
   ]
  },
  {
   "cell_type": "code",
   "execution_count": null,
   "id": "e8c4fece-ae04-4f86-8f37-f4edbd3e0c05",
   "metadata": {},
   "outputs": [],
   "source": [
    "df"
   ]
  },
  {
   "cell_type": "markdown",
   "id": "5bf0692b-c134-437d-991e-b08a0d68376f",
   "metadata": {},
   "source": [
    "## Selecting the data/columns I only need"
   ]
  },
  {
   "cell_type": "code",
   "execution_count": null,
   "id": "0ae94260-3848-43f1-b9a6-aadd09ecbcbd",
   "metadata": {},
   "outputs": [],
   "source": [
    "# selecting the columns I only need\n",
    "df2 = df[['What motivated you to seek a computing class at CCM? [It’s a required class for the degree I’m seeking]', 'What motivated you to seek a computing class at CCM? [To keep current in computing skills]', 'What motivated you to seek a computing class at CCM? [Career Advancement]', 'What motivated you to seek a computing class at CCM? [Career Change]', 'What motivated you to seek a computing class at CCM? [Professional Development]', 'What motivated you to seek a computing class at CCM? [Job Displacement]', 'What motivated you to seek a computing class at CCM? [Relocation]', 'What motivated you to seek a computing class at CCM? [IT Industry Certifications]', 'What motivated you to seek a computing class at CCM? [Financial]', 'What motivated you to seek a computing class at CCM? [Personal Enrichment]', 'What motivated you to seek a computing class at CCM? [Curiosity]', 'To what extent did the following activities or experience impact your decision to enroll in an computing course at CCM? [Middle/High school computing class]', 'To what extent did the following activities or experience impact your decision to enroll in an computing course at CCM? [Middle/High school computing related club]', 'To what extent did the following activities or experience impact your decision to enroll in an computing course at CCM? [Computing-related competitions (e.g., Robotics competition, Lego competition, Cybersecurity, Programming)]', 'To what extent did the following activities or experience impact your decision to enroll in an computing course at CCM? [Afterschool computing-related camp/program]', 'To what extent did the following activities or experience impact your decision to enroll in an computing course at CCM? [Summer computing related camp/program]', 'To what extent did the following activities or experience impact your decision to enroll in an computing course at CCM? [An AP computing class]', 'To what extent did the following activities or experience impact your decision to enroll in an computing course at CCM? [A dual enrollment computing class]', 'To what extent did the following activities or experience impact your decision to enroll in an computing course at CCM? [Family or friend influence]', 'To what extent did the following activities or experience impact your decision to enroll in an computing course at CCM? [Family or friend working in the computing field]', 'To what extent did the following activities or experience impact your decision to enroll in an computing course at CCM? [High school teacher or guidance counselor]', 'To what extent did the following activities or experience impact your decision to enroll in an computing course at CCM? [Employer influence]', 'What degree program are you currently enrolled in?', 'On a scale of 1 to 5, with 1 being not at all interested and 5 being extremely interested, how interested are you taking more courses in Computer Science, Information Technology or Game Development?', 'Did you receive information about our computing course from any of the following sources? [High school guidance counselor]', 'Did you receive information about our computing course from any of the following sources? [CCM Information Technologies Website]', 'Did you receive information about our computing course from any of the following sources? [CCM Admissions]', 'Did you receive information about our computing course from any of the following sources? [CCM advisor/counselor]', 'Did you receive information about our computing course from any of the following sources? [Employer]']]"
   ]
  },
  {
   "cell_type": "code",
   "execution_count": null,
   "id": "178b736d-6187-4cd6-ab42-4424d506de63",
   "metadata": {},
   "outputs": [],
   "source": [
    "df2"
   ]
  },
  {
   "cell_type": "markdown",
   "id": "c55946bb-4210-4e79-9052-2dcda9b1201f",
   "metadata": {},
   "source": [
    "## Changes to the dataset\n",
    "### Renaming the names of the columns.\n",
    "#### First I map out the columns I chose and renamed them"
   ]
  },
  {
   "cell_type": "code",
   "execution_count": null,
   "id": "7158beba-3e1f-4fc9-9ec6-32035d118efe",
   "metadata": {},
   "outputs": [],
   "source": [
    "rename_mapping = {\n",
    "'What motivated you to seek a computing class at CCM? [It’s a required class for the degree I’m seeking]':'Motivation for Comp Class [It’s a required class for the degree I’m seeking]',\n",
    "'What motivated you to seek a computing class at CCM? [To keep current in computing skills]':'Motivation for Comp Class [To keep current in computing skills]',\n",
    "'What motivated you to seek a computing class at CCM? [Career Advancement]':'Motivation for Comp Class [Career Advancement]',\n",
    "'What motivated you to seek a computing class at CCM? [Career Change]':'Motivation for Comp Class [Career Change]',\n",
    "'What motivated you to seek a computing class at CCM? [Professional Development]':'Motivation for Comp Class [Professional Development]',\n",
    "'What motivated you to seek a computing class at CCM? [Job Displacement]':'Motivation for Comp Class [Job Displacement]',\n",
    "'What motivated you to seek a computing class at CCM? [Relocation]':'Motivation for Comp Class [Relocation]',\n",
    "'What motivated you to seek a computing class at CCM? [IT Industry Certifications]':'Motivation for Comp Class [IT Industry Certifications]',\n",
    "'What motivated you to seek a computing class at CCM? [Financial]':'Motivation for Comp Class [Financial]',\n",
    "'What motivated you to seek a computing class at CCM? [Personal Enrichment]':'Motivation for Comp Class [Personal Enrichment]',\n",
    "'What motivated you to seek a computing class at CCM? [Curiosity]':'Motivation for Comp Class [Curiosity]',\n",
    "'To what extent did the following activities or experience impact your decision to enroll in an computing course at CCM? [Middle/High school computing class]':'Impact for Comp Class [Middle/High school computing class]',\n",
    "'To what extent did the following activities or experience impact your decision to enroll in an computing course at CCM? [Middle/High school computing related club]':'Impact for Comp Class [Middle/High school computing related club]',\n",
    "'To what extent did the following activities or experience impact your decision to enroll in an computing course at CCM? [Computing-related competitions (e.g., Robotics competition, Lego competition, Cybersecurity, Programming)]':'Impact for Comp Class [Computing-related competitions (e.g., Robotics competition, Lego competition, Cybersecurity, Programming)]',\n",
    "'To what extent did the following activities or experience impact your decision to enroll in an computing course at CCM? [Afterschool computing-related camp/program]':'Impact for Comp Class [Afterschool computing-related camp/program]',\n",
    "'To what extent did the following activities or experience impact your decision to enroll in an computing course at CCM? [Summer computing related camp/program]':'Impact for Comp Class [Summer computing related camp/program]',\n",
    "'To what extent did the following activities or experience impact your decision to enroll in an computing course at CCM? [An AP computing class]':'Impact for Comp Class [An AP computing class]',\n",
    "'To what extent did the following activities or experience impact your decision to enroll in an computing course at CCM? [A dual enrollment computing class]':'Impact for Comp Class [A dual enrollment computing class]',\n",
    "'To what extent did the following activities or experience impact your decision to enroll in an computing course at CCM? [Family or friend influence]':'Impact for Comp Class [Family or friend influence]',\n",
    "'To what extent did the following activities or experience impact your decision to enroll in an computing course at CCM? [Family or friend working in the computing field]':'Impact for Comp Class [Family or friend working in the computing field]',\n",
    "'To what extent did the following activities or experience impact your decision to enroll in an computing course at CCM? [High school teacher or guidance counselor]':'Impact for Comp Class [High school teacher or guidance counselor]',\n",
    "'To what extent did the following activities or experience impact your decision to enroll in an computing course at CCM? [Employer influence]':'Impact for Comp Class [Employer influence]',\n",
    "'Did you receive information about our computing course from any of the following sources? [High school guidance counselor]' : 'Source of information [High school guidance counselor]',\n",
    "'Did you receive information about our computing course from any of the following sources? [CCM Information Technologies Website]' : 'Source of information [CCM Information Technologies Website]',\n",
    "'Did you receive information about our computing course from any of the following sources? [CCM Admissions]' : 'Source of information [CCM Admissions]',\n",
    "'Did you receive information about our computing course from any of the following sources? [CCM advisor/counselor]' : 'Source of information [CCM advisor/counselor]',\n",
    "'Did you receive information about our computing course from any of the following sources? [Employer]' : 'Source of information [Employer]'\n",
    "}\n",
    "\n",
    "df2 = df2.rename(columns=rename_mapping)"
   ]
  },
  {
   "cell_type": "code",
   "execution_count": null,
   "id": "772da64c-66b8-49b2-b5fa-e507d688409a",
   "metadata": {},
   "outputs": [],
   "source": [
    "df2"
   ]
  },
  {
   "cell_type": "code",
   "execution_count": null,
   "id": "c3497ca4-4466-4c89-848a-15ebb3ce59ed",
   "metadata": {},
   "outputs": [],
   "source": [
    "#More column naming but more directly/individually\n",
    "df2.rename(columns={'What degree program are you currently enrolled in?':'Major'}, inplace=True)"
   ]
  },
  {
   "cell_type": "code",
   "execution_count": null,
   "id": "b6357d5b-7f72-4c99-a5e3-b76fe29bde20",
   "metadata": {},
   "outputs": [],
   "source": [
    "df2"
   ]
  },
  {
   "cell_type": "code",
   "execution_count": null,
   "id": "09849555-1ab8-4c5c-bc52-29ac4051e353",
   "metadata": {},
   "outputs": [],
   "source": [
    "df2.rename(columns={'On a scale of 1 to 5, with 1 being not at all interested and 5 being extremely interested, how interested are you taking more courses in Computer Science, Information Technology or Game Development?':'Likelihood of Taking More Computing Classes'}, inplace=True)"
   ]
  },
  {
   "cell_type": "code",
   "execution_count": null,
   "id": "02c8e8c4-4005-40e3-adb1-76eacdd39fed",
   "metadata": {},
   "outputs": [],
   "source": [
    "df2"
   ]
  },
  {
   "cell_type": "markdown",
   "id": "cad3e68b-6b1a-4d11-8972-6bdea222e431",
   "metadata": {},
   "source": [
    "## Cleaning up the majors inputted in the major column and renaming some to better organize it"
   ]
  },
  {
   "cell_type": "code",
   "execution_count": null,
   "id": "fcbe6ce1-726f-4ca1-98b7-3203538d1158",
   "metadata": {},
   "outputs": [],
   "source": [
    "namesReplacing = {\n",
    "    'analyst' : 'Data Analytics',\n",
    "    'Biology - Environmental Track' : 'Biology',\n",
    "    'child psychology' : 'Psychology',\n",
    "    'Nursing, but not at CCM - I am a visiting student ' : 'Nursing',\n",
    "    'Fire Science ' : 'Fire Science'\n",
    "}"
   ]
  },
  {
   "cell_type": "code",
   "execution_count": null,
   "id": "496af370-781d-423c-b1c0-e2a9dba15abb",
   "metadata": {},
   "outputs": [],
   "source": [
    "df2['Major'].replace(namesReplacing, inplace = True)"
   ]
  },
  {
   "cell_type": "code",
   "execution_count": null,
   "id": "2bf95004-3744-4ecb-959d-0cbd1bdd52e0",
   "metadata": {},
   "outputs": [],
   "source": [
    "df2.Major.value_counts() #making sure the counts are up to date"
   ]
  },
  {
   "cell_type": "markdown",
   "id": "bf32b842-ff13-43cf-9855-2a7ee147e912",
   "metadata": {},
   "source": [
    "# Writing the refined dataset into a new csv file"
   ]
  },
  {
   "cell_type": "code",
   "execution_count": null,
   "id": "f6fb8a80-ed4b-4f46-994e-5f4615998db4",
   "metadata": {},
   "outputs": [],
   "source": [
    "df2.to_csv(\"Refined Non-Majors Survey Results - Fall 2024.csv\", index=False)"
   ]
  },
  {
   "cell_type": "markdown",
   "id": "a67cad0d-ba15-44a8-879e-e7db18c0bba8",
   "metadata": {},
   "source": [
    "# Project #1, Part 3:\n",
    "### What are the top impacts for a non-major student to take a computing class?"
   ]
  },
  {
   "cell_type": "markdown",
   "id": "49fd002c-1dbb-42cb-8cea-84e7701612db",
   "metadata": {},
   "source": [
    "#### Selecting only the columns needed for this question"
   ]
  },
  {
   "cell_type": "code",
   "execution_count": null,
   "id": "01430197-267e-4d7b-8ed3-cce9a64dbbad",
   "metadata": {},
   "outputs": [],
   "source": [
    "impacts = df2[['Impact for Comp Class [Middle/High school computing class]', 'Impact for Comp Class [Middle/High school computing related club]', 'Impact for Comp Class [Computing-related competitions (e.g., Robotics competition, Lego competition, Cybersecurity, Programming)]', 'Impact for Comp Class [Afterschool computing-related camp/program]', 'Impact for Comp Class [Summer computing related camp/program]', 'Impact for Comp Class [An AP computing class]', 'Impact for Comp Class [A dual enrollment computing class]', 'Impact for Comp Class [Family or friend influence]', 'Impact for Comp Class [Family or friend working in the computing field]', 'Impact for Comp Class [High school teacher or guidance counselor]', 'Impact for Comp Class [Employer influence]']]"
   ]
  },
  {
   "cell_type": "markdown",
   "id": "ea3efc37-9d20-424a-b3c2-4136c7d4ee50",
   "metadata": {},
   "source": [
    "#### Creating the variables for the graph"
   ]
  },
  {
   "cell_type": "code",
   "execution_count": null,
   "id": "a11e238e-1c09-4e0e-8f28-539bf85af539",
   "metadata": {},
   "outputs": [],
   "source": [
    "impactReasons = ['Middle/High school computing class', 'Middle/High school computing related club', 'Computing-related competitions', 'Afterschool computing-related camp/program', 'Summer computing related camp/program', 'An AP computing class', 'A dual enrollment computing class', 'Family or friend influence', 'Family or friend working in the computing field', 'High school teacher or guidance counselor', 'Employer influence']"
   ]
  },
  {
   "cell_type": "code",
   "execution_count": null,
   "id": "83731d39-8c6b-482e-b6c8-ac6f44196493",
   "metadata": {},
   "outputs": [],
   "source": [
    "sums = [(impacts['Impact for Comp Class [Middle/High school computing class]'] == 'High Impact').sum(), (impacts['Impact for Comp Class [Middle/High school computing related club]'] == 'High Impact').sum(), (impacts['Impact for Comp Class [Computing-related competitions (e.g., Robotics competition, Lego competition, Cybersecurity, Programming)]'] == 'High Impact').sum(), (impacts['Impact for Comp Class [Afterschool computing-related camp/program]'] == 'High Impact').sum(), (impacts['Impact for Comp Class [Summer computing related camp/program]'] == 'High Impact').sum(), (impacts['Impact for Comp Class [An AP computing class]'] == 'High Impact').sum(), (impacts['Impact for Comp Class [A dual enrollment computing class]'] == 'High Impact').sum(), (impacts['Impact for Comp Class [Family or friend influence]'] == 'High Impact').sum(), (impacts['Impact for Comp Class [Family or friend working in the computing field]'] == 'High Impact').sum(), (impacts['Impact for Comp Class [High school teacher or guidance counselor]'] == 'High Impact').sum(), (impacts['Impact for Comp Class [Employer influence]'] == 'High Impact').sum()]"
   ]
  },
  {
   "cell_type": "markdown",
   "id": "64fe3d1c-d6a2-462d-aeac-f0be7fa11af5",
   "metadata": {},
   "source": [
    "#### Plotting the graph for \"High impact\""
   ]
  },
  {
   "cell_type": "code",
   "execution_count": null,
   "id": "50f4917e-9eaf-4957-b02a-4e4d245b2d2a",
   "metadata": {},
   "outputs": [],
   "source": [
    "plt.barh(impactReasons, sums)\n",
    "plt.ylabel('Impact')\n",
    "plt.xlabel('Total number of \"High Impact\" selections')\n",
    "plt.title('Total number of \"High Impact\" per choice')\n",
    "plt.show()"
   ]
  },
  {
   "cell_type": "markdown",
   "id": "b5c14438-49d9-4de1-96dd-e8d8a852672a",
   "metadata": {},
   "source": [
    "#### Getting the next set of values for the \"Some impact\" graph"
   ]
  },
  {
   "cell_type": "code",
   "execution_count": null,
   "id": "6f562b53-1856-4a00-9770-025d255c6e90",
   "metadata": {},
   "outputs": [],
   "source": [
    "sums = [(impacts['Impact for Comp Class [Middle/High school computing class]'] == 'Some Impact').sum(), (impacts['Impact for Comp Class [Middle/High school computing related club]'] == 'Some Impact').sum(), (impacts['Impact for Comp Class [Computing-related competitions (e.g., Robotics competition, Lego competition, Cybersecurity, Programming)]'] == 'Some Impact').sum(), (impacts['Impact for Comp Class [Afterschool computing-related camp/program]'] == 'Some Impact').sum(), (impacts['Impact for Comp Class [Summer computing related camp/program]'] == 'Some Impact').sum(), (impacts['Impact for Comp Class [An AP computing class]'] == 'Some Impact').sum(), (impacts['Impact for Comp Class [A dual enrollment computing class]'] == 'Some Impact').sum(), (impacts['Impact for Comp Class [Family or friend influence]'] == 'Some Impact').sum(), (impacts['Impact for Comp Class [Family or friend working in the computing field]'] == 'Some Impact').sum(), (impacts['Impact for Comp Class [High school teacher or guidance counselor]'] == 'Some Impact').sum(), (impacts['Impact for Comp Class [Employer influence]'] == 'Some Impact').sum()]"
   ]
  },
  {
   "cell_type": "markdown",
   "id": "84a74d0d-4a08-4114-84e5-9fdc7f5e427e",
   "metadata": {},
   "source": [
    "#### Plotting the graph for \"Some impact\""
   ]
  },
  {
   "cell_type": "code",
   "execution_count": null,
   "id": "ca9b7100-5c85-4a95-ad95-f7fbea26e352",
   "metadata": {},
   "outputs": [],
   "source": [
    "plt.barh(impactReasons, sums)\n",
    "plt.ylabel('Impact')\n",
    "plt.xlabel('Total number of \"Some Impact\" selections')\n",
    "plt.title('Total number of \"Some Impact\" per choice')\n",
    "plt.show()"
   ]
  },
  {
   "cell_type": "markdown",
   "id": "98a61b12-a0c4-4f56-866d-fe3971593756",
   "metadata": {},
   "source": [
    "### The most impactful influences are a family/friend influence (which is also the second most \"some impact\" influence and employer infleuncer as the top \"most impactful\" influence and a middle/high school class, family/friend influence, and computing club having some impact on the surveyed"
   ]
  },
  {
   "cell_type": "markdown",
   "id": "69445231-c12e-43b9-b533-765240d77730",
   "metadata": {},
   "source": [
    "## What is the overall average interest in taking more computing classes?"
   ]
  },
  {
   "cell_type": "code",
   "execution_count": null,
   "id": "a99c3f19-cb4d-4131-96ae-21cf0f88f7ab",
   "metadata": {},
   "outputs": [],
   "source": [
    "# Prints the average overall rating\n",
    "print(f'The overall average interest in taking more computing classes is {df2['Likelihood of Taking More Computing Classes'].mean():.2f} out of 5.')"
   ]
  },
  {
   "cell_type": "markdown",
   "id": "47ebf1d4-f395-4ec5-9687-8506ab2a432f",
   "metadata": {},
   "source": [
    "#### Plotting the graph to display the counts of all the intertest ratings"
   ]
  },
  {
   "cell_type": "code",
   "execution_count": null,
   "id": "f39375f2-49e4-494e-baf1-5299e5734491",
   "metadata": {},
   "outputs": [],
   "source": [
    "plt.bar([3, 2, 1, 5, 4], df2['Likelihood of Taking More Computing Classes'].value_counts(sort=True))\n",
    "plt.xlabel('Scale of 1 to 5')\n",
    "plt.ylabel('Totals')\n",
    "plt.title('Interest In Taking More Computing Classes On A Scale Of 1-5')\n",
    "plt.show()"
   ]
  },
  {
   "cell_type": "markdown",
   "id": "2c9046a9-b2fc-460c-98e3-85252ae4e1f1",
   "metadata": {},
   "source": [
    "### The overall average interest in taking more computing classes is 2.58 out of 5, with 3 and 2 being the most commonly picked choices."
   ]
  },
  {
   "cell_type": "markdown",
   "id": "cccbb938-8633-4151-94ec-aeb94e3b2bae",
   "metadata": {},
   "source": [
    "## What majors were least and most common to take computing classes (in order)?"
   ]
  },
  {
   "cell_type": "code",
   "execution_count": null,
   "id": "08416b23-1fe5-4968-9d3f-b5009d4f52db",
   "metadata": {},
   "outputs": [],
   "source": [
    "#Selecting only the data I need\n",
    "counts = df2['Major'].value_counts(ascending=True)\n",
    "#Plotting it\n",
    "colors = ['firebrick','firebrick','firebrick','firebrick','firebrick','firebrick','firebrick','firebrick','firebrick','firebrick','mediumslateblue','mediumslateblue','mediumslateblue','mediumslateblue','mediumslateblue','mediumslateblue','mediumslateblue','mediumslateblue','navy','navy','navy','navy']\n",
    "counts.plot(kind='barh', xlabel = \"Total Number of Enrollment\", title = \"Total Number Of Enrollment In Each Major Taking Computing Classes\", color = colors)"
   ]
  },
  {
   "cell_type": "markdown",
   "id": "0d822b62-8fcb-4483-9763-5312dd4e2b84",
   "metadata": {},
   "source": [
    "#### The most common majors are Radiography with 26, Liberal Arts with 18, and Nursing with 10.\n",
    "#### The least common majors are Child Psychology, Data Analytics, Journalism, Psychology, Music Technology, Culinary Arts and Sciences, Communication, History Education, Fire Science, and Musical Theatre with 1 a piece."
   ]
  },
  {
   "cell_type": "markdown",
   "id": "e13943f2-07c1-42f0-9bff-8a9099439f08",
   "metadata": {},
   "source": [
    "## What were the most common ways that the students learned about the computing classes?"
   ]
  },
  {
   "cell_type": "markdown",
   "id": "d88b7fbf-04c8-4103-b071-13c175c6fd17",
   "metadata": {},
   "source": [
    "#### Selecting only the columns needed for this question"
   ]
  },
  {
   "cell_type": "code",
   "execution_count": null,
   "id": "a41b855a-135c-44fc-af86-cef0b47408ac",
   "metadata": {},
   "outputs": [],
   "source": [
    "learnedFrom = df2[['Source of information [High school guidance counselor]', 'Source of information [CCM Information Technologies Website]', 'Source of information [CCM Admissions]', 'Source of information [CCM advisor/counselor]', 'Source of information [Employer]']]"
   ]
  },
  {
   "cell_type": "markdown",
   "id": "8563c339-80c4-45ee-ab95-48bd23114f4d",
   "metadata": {},
   "source": [
    "#### Creating the variables for the graph"
   ]
  },
  {
   "cell_type": "code",
   "execution_count": null,
   "id": "28bcc51f-e6aa-4268-871c-1a007f66b81b",
   "metadata": {},
   "outputs": [],
   "source": [
    "reason = ['High school guidance counselor', 'CCM Information Technologies Website', 'CCM Admissions', 'CCM advisor/counselor', 'Employer']"
   ]
  },
  {
   "cell_type": "code",
   "execution_count": null,
   "id": "c1963c78-1022-4a46-9a81-b6bcd8e0737e",
   "metadata": {},
   "outputs": [],
   "source": [
    "sums = [(learnedFrom['Source of information [High school guidance counselor]'] == 'Yes').sum(), (learnedFrom['Source of information [CCM Information Technologies Website]'] == 'Yes').sum(), (learnedFrom['Source of information [CCM Admissions]'] == 'Yes').sum(), (learnedFrom['Source of information [CCM advisor/counselor]'] == 'Yes').sum(), (learnedFrom['Source of information [Employer]'] == 'Yes').sum()]"
   ]
  },
  {
   "cell_type": "markdown",
   "id": "b5781f14-1819-4f5e-9c89-68f0f99d734b",
   "metadata": {},
   "source": [
    "#### Plotting the graph for \"High impact\""
   ]
  },
  {
   "cell_type": "code",
   "execution_count": null,
   "id": "5478d75f-a21a-4e0b-a519-14a435ed64d1",
   "metadata": {},
   "outputs": [],
   "source": [
    "plt.barh(reason, sums)\n",
    "plt.xlabel('Amount of Students')\n",
    "plt.ylabel('Way of Information')\n",
    "plt.title('How students recieved information about the course')\n",
    "plt.show()"
   ]
  },
  {
   "cell_type": "markdown",
   "id": "a478e952-2644-48bf-8cfb-ebfcd4e6c3e7",
   "metadata": {},
   "source": [
    "### The most common ways the students learned about the computing classes are through their CCM advisor/counselor, CCM admissions, and the CCM IT website."
   ]
  }
 ],
 "metadata": {
  "kernelspec": {
   "display_name": "Python [conda env:base] *",
   "language": "python",
   "name": "conda-base-py"
  },
  "language_info": {
   "codemirror_mode": {
    "name": "ipython",
    "version": 3
   },
   "file_extension": ".py",
   "mimetype": "text/x-python",
   "name": "python",
   "nbconvert_exporter": "python",
   "pygments_lexer": "ipython3",
   "version": "3.13.5"
  }
 },
 "nbformat": 4,
 "nbformat_minor": 5
}
